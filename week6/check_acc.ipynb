{
 "cells": [
  {
   "cell_type": "code",
   "execution_count": 8,
   "metadata": {},
   "outputs": [
    {
     "name": "stderr",
     "output_type": "stream",
     "text": [
      "/var/folders/m_/znmxvld547z2ynkh41wpdqm40000gn/T/ipykernel_30740/4080736814.py:1: DeprecationWarning: \n",
      "Pyarrow will become a required dependency of pandas in the next major release of pandas (pandas 3.0),\n",
      "(to allow more performant data types, such as the Arrow string type, and better interoperability with other libraries)\n",
      "but was not found to be installed on your system.\n",
      "If this would cause problems for you,\n",
      "please provide us feedback at https://github.com/pandas-dev/pandas/issues/54466\n",
      "        \n",
      "  import pandas as pd\n"
     ]
    }
   ],
   "source": [
    "import pandas as pd"
   ]
  },
  {
   "cell_type": "code",
   "execution_count": 21,
   "metadata": {},
   "outputs": [],
   "source": [
    "gtd = pd.read_csv(\"yield_strength_GTD.csv\")\n",
    "list_materitals = list(gtd['material'])"
   ]
  },
  {
   "cell_type": "code",
   "execution_count": 13,
   "metadata": {},
   "outputs": [
    {
     "data": {
      "text/html": [
       "<div>\n",
       "<style scoped>\n",
       "    .dataframe tbody tr th:only-of-type {\n",
       "        vertical-align: middle;\n",
       "    }\n",
       "\n",
       "    .dataframe tbody tr th {\n",
       "        vertical-align: top;\n",
       "    }\n",
       "\n",
       "    .dataframe thead th {\n",
       "        text-align: right;\n",
       "    }\n",
       "</style>\n",
       "<table border=\"1\" class=\"dataframe\">\n",
       "  <thead>\n",
       "    <tr style=\"text-align: right;\">\n",
       "      <th></th>\n",
       "      <th>material</th>\n",
       "      <th>value</th>\n",
       "      <th>passage</th>\n",
       "    </tr>\n",
       "  </thead>\n",
       "  <tbody>\n",
       "    <tr>\n",
       "      <th>0</th>\n",
       "      <td>Al0.5CoCrCuFeNi high entropy alloys</td>\n",
       "      <td>1284.0</td>\n",
       "      <td>Fatigue behavior of Al0.5CoCrCuFeNi high entro...</td>\n",
       "    </tr>\n",
       "    <tr>\n",
       "      <th>1</th>\n",
       "      <td>Al0.5CoCrCuFeNi high entropy alloys</td>\n",
       "      <td>1284.0</td>\n",
       "      <td>Fatigue behavior of Al0.5CoCrCuFeNi high entro...</td>\n",
       "    </tr>\n",
       "    <tr>\n",
       "      <th>2</th>\n",
       "      <td>Ni2.0 alloy</td>\n",
       "      <td>700.0</td>\n",
       "      <td>Directly cast bulk eutectic and near-eutectic ...</td>\n",
       "    </tr>\n",
       "    <tr>\n",
       "      <th>3</th>\n",
       "      <td>Ni2.1</td>\n",
       "      <td>595.0</td>\n",
       "      <td>Directly cast bulk eutectic and near-eutectic ...</td>\n",
       "    </tr>\n",
       "    <tr>\n",
       "      <th>4</th>\n",
       "      <td>Ni2.0</td>\n",
       "      <td>580.0</td>\n",
       "      <td>Directly cast bulk eutectic and near-eutectic ...</td>\n",
       "    </tr>\n",
       "    <tr>\n",
       "      <th>...</th>\n",
       "      <td>...</td>\n",
       "      <td>...</td>\n",
       "      <td>...</td>\n",
       "    </tr>\n",
       "    <tr>\n",
       "      <th>1059</th>\n",
       "      <td>Inconel 718</td>\n",
       "      <td>95.0</td>\n",
       "      <td>The sliding wear behaviour of CoCrFeMnNi and A...</td>\n",
       "    </tr>\n",
       "    <tr>\n",
       "      <th>1060</th>\n",
       "      <td>GCr15 steel</td>\n",
       "      <td>2033.9</td>\n",
       "      <td>Investigation into reciprocating dry sliding f...</td>\n",
       "    </tr>\n",
       "    <tr>\n",
       "      <th>1061</th>\n",
       "      <td>CoCrFeMnNi HEA</td>\n",
       "      <td>1700.0</td>\n",
       "      <td>Investigation into reciprocating dry sliding f...</td>\n",
       "    </tr>\n",
       "    <tr>\n",
       "      <th>1062</th>\n",
       "      <td>CoCrFeMnNi (16 at.%% Mo)</td>\n",
       "      <td>765.0</td>\n",
       "      <td>Improved tribological performance of nickel ba...</td>\n",
       "    </tr>\n",
       "    <tr>\n",
       "      <th>1063</th>\n",
       "      <td>CoCrFeMnNi (0 at.%% Mo)</td>\n",
       "      <td>216.0</td>\n",
       "      <td>Improved tribological performance of nickel ba...</td>\n",
       "    </tr>\n",
       "  </tbody>\n",
       "</table>\n",
       "<p>1064 rows × 3 columns</p>\n",
       "</div>"
      ],
      "text/plain": [
       "                                 material   value  \\\n",
       "0     Al0.5CoCrCuFeNi high entropy alloys  1284.0   \n",
       "1     Al0.5CoCrCuFeNi high entropy alloys  1284.0   \n",
       "2                             Ni2.0 alloy   700.0   \n",
       "3                                   Ni2.1   595.0   \n",
       "4                                   Ni2.0   580.0   \n",
       "...                                   ...     ...   \n",
       "1059                          Inconel 718    95.0   \n",
       "1060                          GCr15 steel  2033.9   \n",
       "1061                       CoCrFeMnNi HEA  1700.0   \n",
       "1062             CoCrFeMnNi (16 at.%% Mo)   765.0   \n",
       "1063              CoCrFeMnNi (0 at.%% Mo)   216.0   \n",
       "\n",
       "                                                passage  \n",
       "0     Fatigue behavior of Al0.5CoCrCuFeNi high entro...  \n",
       "1     Fatigue behavior of Al0.5CoCrCuFeNi high entro...  \n",
       "2     Directly cast bulk eutectic and near-eutectic ...  \n",
       "3     Directly cast bulk eutectic and near-eutectic ...  \n",
       "4     Directly cast bulk eutectic and near-eutectic ...  \n",
       "...                                                 ...  \n",
       "1059  The sliding wear behaviour of CoCrFeMnNi and A...  \n",
       "1060  Investigation into reciprocating dry sliding f...  \n",
       "1061  Investigation into reciprocating dry sliding f...  \n",
       "1062  Improved tribological performance of nickel ba...  \n",
       "1063  Improved tribological performance of nickel ba...  \n",
       "\n",
       "[1064 rows x 3 columns]"
      ]
     },
     "execution_count": 13,
     "metadata": {},
     "output_type": "execute_result"
    }
   ],
   "source": [
    "gtd"
   ]
  },
  {
   "cell_type": "code",
   "execution_count": 26,
   "metadata": {},
   "outputs": [
    {
     "name": "stdout",
     "output_type": "stream",
     "text": [
      " CoCrFeMnNi  actual:  550 MPa \n",
      "expected:  605.0\n"
     ]
    }
   ],
   "source": [
    "with open(\"yieldstrength_2024_03_17-165957.txt\", \"r\") as file:\n",
    "    lines = file.readlines()\n",
    "    for line in lines:\n",
    "        if line[0] =='|': \n",
    "            segs = line.split('|')\n",
    "            if segs[1].lower().strip() == 'material' or segs[1].lower().strip()[0] == '-':\n",
    "                continue\n",
    "            for e in list_materitals:\n",
    "                if segs[1].lower().strip() == e.strip().lower():\n",
    "                    print(segs[1], \"actual:\", segs[2])\n",
    "                    idx = list_materitals.index(e)\n",
    "                    print(\"expected: \", gtd.iloc[idx]['value'])\n",
    "                    break\n"
   ]
  },
  {
   "cell_type": "code",
   "execution_count": 28,
   "metadata": {},
   "outputs": [
    {
     "data": {
      "text/plain": [
       "9.090909090909092"
      ]
     },
     "execution_count": 28,
     "metadata": {},
     "output_type": "execute_result"
    }
   ],
   "source": [
    "abs(550 - 605) / 605 * 100"
   ]
  }
 ],
 "metadata": {
  "kernelspec": {
   "display_name": "Python 3",
   "language": "python",
   "name": "python3"
  },
  "language_info": {
   "codemirror_mode": {
    "name": "ipython",
    "version": 3
   },
   "file_extension": ".py",
   "mimetype": "text/x-python",
   "name": "python",
   "nbconvert_exporter": "python",
   "pygments_lexer": "ipython3",
   "version": "3.11.4"
  }
 },
 "nbformat": 4,
 "nbformat_minor": 2
}
